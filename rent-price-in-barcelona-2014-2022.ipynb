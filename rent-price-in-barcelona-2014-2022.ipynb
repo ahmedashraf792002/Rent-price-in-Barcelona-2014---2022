{
 "cells": [
  {
   "cell_type": "code",
   "execution_count": 1,
   "id": "b7b475b1",
   "metadata": {
    "_cell_guid": "b1076dfc-b9ad-4769-8c92-a6c4dae69d19",
    "_uuid": "8f2839f25d086af736a60e9eeb907d3b93b6e0e5",
    "execution": {
     "iopub.execute_input": "2022-11-28T21:11:24.539919Z",
     "iopub.status.busy": "2022-11-28T21:11:24.539248Z",
     "iopub.status.idle": "2022-11-28T21:11:24.558217Z",
     "shell.execute_reply": "2022-11-28T21:11:24.557306Z"
    },
    "papermill": {
     "duration": 0.035665,
     "end_time": "2022-11-28T21:11:24.560937",
     "exception": false,
     "start_time": "2022-11-28T21:11:24.525272",
     "status": "completed"
    },
    "tags": []
   },
   "outputs": [
    {
     "name": "stdout",
     "output_type": "stream",
     "text": [
      "/kaggle/input/rent-price-in-barcelona-2014-2022/Barcelona_rent_price.csv\n"
     ]
    }
   ],
   "source": [
    "# This Python 3 environment comes with many helpful analytics libraries installed\n",
    "# It is defined by the kaggle/python Docker image: https://github.com/kaggle/docker-python\n",
    "# For example, here's several helpful packages to load\n",
    "\n",
    "import numpy as np # linear algebra\n",
    "import pandas as pd # data processing, CSV file I/O (e.g. pd.read_csv)\n",
    "\n",
    "# Input data files are available in the read-only \"../input/\" directory\n",
    "# For example, running this (by clicking run or pressing Shift+Enter) will list all files under the input directory\n",
    "\n",
    "import os\n",
    "for dirname, _, filenames in os.walk('/kaggle/input'):\n",
    "    for filename in filenames:\n",
    "        print(os.path.join(dirname, filename))\n",
    "\n",
    "# You can write up to 20GB to the current directory (/kaggle/working/) that gets preserved as output when you create a version using \"Save & Run All\" \n",
    "# You can also write temporary files to /kaggle/temp/, but they won't be saved outside of the current session"
   ]
  },
  {
   "cell_type": "markdown",
   "id": "db980944",
   "metadata": {
    "papermill": {
     "duration": 0.014156,
     "end_time": "2022-11-28T21:11:24.586378",
     "exception": false,
     "start_time": "2022-11-28T21:11:24.572222",
     "status": "completed"
    },
    "tags": []
   },
   "source": [
    "# Import Libraries"
   ]
  },
  {
   "cell_type": "code",
   "execution_count": 2,
   "id": "a1c99f1c",
   "metadata": {
    "execution": {
     "iopub.execute_input": "2022-11-28T21:11:24.619872Z",
     "iopub.status.busy": "2022-11-28T21:11:24.618908Z",
     "iopub.status.idle": "2022-11-28T21:11:26.258014Z",
     "shell.execute_reply": "2022-11-28T21:11:26.256734Z"
    },
    "papermill": {
     "duration": 1.659385,
     "end_time": "2022-11-28T21:11:26.261431",
     "exception": false,
     "start_time": "2022-11-28T21:11:24.602046",
     "status": "completed"
    },
    "tags": []
   },
   "outputs": [],
   "source": [
    "import pandas as pd\n",
    "import seaborn as sns\n",
    "from sklearn.preprocessing import LabelEncoder\n",
    "from sklearn.model_selection import train_test_split\n",
    "from sklearn.linear_model import LinearRegression\n",
    "from sklearn.ensemble import RandomForestRegressor\n",
    "import matplotlib.pyplot as plt\n",
    "from sklearn.metrics import mean_absolute_error \n",
    "from sklearn.metrics import mean_squared_error \n",
    "from sklearn.metrics import median_absolute_error"
   ]
  },
  {
   "cell_type": "markdown",
   "id": "2ed82852",
   "metadata": {
    "papermill": {
     "duration": 0.01079,
     "end_time": "2022-11-28T21:11:26.283869",
     "exception": false,
     "start_time": "2022-11-28T21:11:26.273079",
     "status": "completed"
    },
    "tags": []
   },
   "source": [
    "# Read Data"
   ]
  },
  {
   "cell_type": "code",
   "execution_count": 3,
   "id": "ddd8a386",
   "metadata": {
    "execution": {
     "iopub.execute_input": "2022-11-28T21:11:26.309079Z",
     "iopub.status.busy": "2022-11-28T21:11:26.308660Z",
     "iopub.status.idle": "2022-11-28T21:11:26.340352Z",
     "shell.execute_reply": "2022-11-28T21:11:26.339495Z"
    },
    "papermill": {
     "duration": 0.047543,
     "end_time": "2022-11-28T21:11:26.343008",
     "exception": false,
     "start_time": "2022-11-28T21:11:26.295465",
     "status": "completed"
    },
    "tags": []
   },
   "outputs": [],
   "source": [
    "data=pd.read_csv('/kaggle/input/rent-price-in-barcelona-2014-2022/Barcelona_rent_price.csv')"
   ]
  },
  {
   "cell_type": "markdown",
   "id": "a2b6592f",
   "metadata": {
    "papermill": {
     "duration": 0.010676,
     "end_time": "2022-11-28T21:11:26.364772",
     "exception": false,
     "start_time": "2022-11-28T21:11:26.354096",
     "status": "completed"
    },
    "tags": []
   },
   "source": [
    "# Show 5 first row in data"
   ]
  },
  {
   "cell_type": "code",
   "execution_count": 4,
   "id": "02a90df9",
   "metadata": {
    "execution": {
     "iopub.execute_input": "2022-11-28T21:11:26.388556Z",
     "iopub.status.busy": "2022-11-28T21:11:26.388122Z",
     "iopub.status.idle": "2022-11-28T21:11:26.411586Z",
     "shell.execute_reply": "2022-11-28T21:11:26.410393Z"
    },
    "papermill": {
     "duration": 0.038354,
     "end_time": "2022-11-28T21:11:26.414023",
     "exception": false,
     "start_time": "2022-11-28T21:11:26.375669",
     "status": "completed"
    },
    "tags": []
   },
   "outputs": [
    {
     "data": {
      "text/html": [
       "<div>\n",
       "<style scoped>\n",
       "    .dataframe tbody tr th:only-of-type {\n",
       "        vertical-align: middle;\n",
       "    }\n",
       "\n",
       "    .dataframe tbody tr th {\n",
       "        vertical-align: top;\n",
       "    }\n",
       "\n",
       "    .dataframe thead th {\n",
       "        text-align: right;\n",
       "    }\n",
       "</style>\n",
       "<table border=\"1\" class=\"dataframe\">\n",
       "  <thead>\n",
       "    <tr style=\"text-align: right;\">\n",
       "      <th></th>\n",
       "      <th>Year</th>\n",
       "      <th>Trimester</th>\n",
       "      <th>District</th>\n",
       "      <th>Neighbourhood</th>\n",
       "      <th>Average _rent</th>\n",
       "      <th>Price</th>\n",
       "    </tr>\n",
       "  </thead>\n",
       "  <tbody>\n",
       "    <tr>\n",
       "      <th>0</th>\n",
       "      <td>2014</td>\n",
       "      <td>1</td>\n",
       "      <td>Ciutat Vella</td>\n",
       "      <td>el Raval</td>\n",
       "      <td>average rent (euro/month)</td>\n",
       "      <td>589.55</td>\n",
       "    </tr>\n",
       "    <tr>\n",
       "      <th>1</th>\n",
       "      <td>2014</td>\n",
       "      <td>1</td>\n",
       "      <td>Ciutat Vella</td>\n",
       "      <td>Gothic Quarter</td>\n",
       "      <td>average rent (euro/month)</td>\n",
       "      <td>712.79</td>\n",
       "    </tr>\n",
       "    <tr>\n",
       "      <th>2</th>\n",
       "      <td>2014</td>\n",
       "      <td>1</td>\n",
       "      <td>Ciutat Vella</td>\n",
       "      <td>la Barceloneta</td>\n",
       "      <td>average rent (euro/month)</td>\n",
       "      <td>540.71</td>\n",
       "    </tr>\n",
       "    <tr>\n",
       "      <th>3</th>\n",
       "      <td>2014</td>\n",
       "      <td>1</td>\n",
       "      <td>Ciutat Vella</td>\n",
       "      <td>Sant Pere, Santa Caterina i la Ribera</td>\n",
       "      <td>average rent (euro/month)</td>\n",
       "      <td>673.44</td>\n",
       "    </tr>\n",
       "    <tr>\n",
       "      <th>4</th>\n",
       "      <td>2014</td>\n",
       "      <td>1</td>\n",
       "      <td>Eixample</td>\n",
       "      <td>Fort Pienc</td>\n",
       "      <td>average rent (euro/month)</td>\n",
       "      <td>736.09</td>\n",
       "    </tr>\n",
       "  </tbody>\n",
       "</table>\n",
       "</div>"
      ],
      "text/plain": [
       "   Year  Trimester      District                          Neighbourhood  \\\n",
       "0  2014          1  Ciutat Vella                               el Raval   \n",
       "1  2014          1  Ciutat Vella                         Gothic Quarter   \n",
       "2  2014          1  Ciutat Vella                         la Barceloneta   \n",
       "3  2014          1  Ciutat Vella  Sant Pere, Santa Caterina i la Ribera   \n",
       "4  2014          1      Eixample                             Fort Pienc   \n",
       "\n",
       "               Average _rent   Price  \n",
       "0  average rent (euro/month)  589.55  \n",
       "1  average rent (euro/month)  712.79  \n",
       "2  average rent (euro/month)  540.71  \n",
       "3  average rent (euro/month)  673.44  \n",
       "4  average rent (euro/month)  736.09  "
      ]
     },
     "execution_count": 4,
     "metadata": {},
     "output_type": "execute_result"
    }
   ],
   "source": [
    "data.head()"
   ]
  },
  {
   "cell_type": "markdown",
   "id": "20693f93",
   "metadata": {
    "papermill": {
     "duration": 0.010799,
     "end_time": "2022-11-28T21:11:26.435802",
     "exception": false,
     "start_time": "2022-11-28T21:11:26.425003",
     "status": "completed"
    },
    "tags": []
   },
   "source": [
    "# Show columns of data"
   ]
  },
  {
   "cell_type": "code",
   "execution_count": 5,
   "id": "b6808558",
   "metadata": {
    "execution": {
     "iopub.execute_input": "2022-11-28T21:11:26.460363Z",
     "iopub.status.busy": "2022-11-28T21:11:26.459681Z",
     "iopub.status.idle": "2022-11-28T21:11:26.466875Z",
     "shell.execute_reply": "2022-11-28T21:11:26.465271Z"
    },
    "papermill": {
     "duration": 0.022303,
     "end_time": "2022-11-28T21:11:26.469293",
     "exception": false,
     "start_time": "2022-11-28T21:11:26.446990",
     "status": "completed"
    },
    "tags": []
   },
   "outputs": [
    {
     "name": "stdout",
     "output_type": "stream",
     "text": [
      "column 1 is : Year\n",
      "column 2 is : Trimester\n",
      "column 3 is : District\n",
      "column 4 is : Neighbourhood\n",
      "column 5 is : Average _rent\n",
      "column 6 is : Price\n"
     ]
    }
   ],
   "source": [
    "x=1\n",
    "for col in data.columns:\n",
    "    print(f'column {x} is :',col)\n",
    "    x+=1"
   ]
  },
  {
   "cell_type": "markdown",
   "id": "822e19e3",
   "metadata": {
    "papermill": {
     "duration": 0.011152,
     "end_time": "2022-11-28T21:11:26.492034",
     "exception": false,
     "start_time": "2022-11-28T21:11:26.480882",
     "status": "completed"
    },
    "tags": []
   },
   "source": [
    "# Data corr"
   ]
  },
  {
   "cell_type": "code",
   "execution_count": 6,
   "id": "380fabe6",
   "metadata": {
    "execution": {
     "iopub.execute_input": "2022-11-28T21:11:26.517127Z",
     "iopub.status.busy": "2022-11-28T21:11:26.516110Z",
     "iopub.status.idle": "2022-11-28T21:11:26.531892Z",
     "shell.execute_reply": "2022-11-28T21:11:26.530456Z"
    },
    "papermill": {
     "duration": 0.03094,
     "end_time": "2022-11-28T21:11:26.534614",
     "exception": false,
     "start_time": "2022-11-28T21:11:26.503674",
     "status": "completed"
    },
    "tags": []
   },
   "outputs": [
    {
     "data": {
      "text/html": [
       "<div>\n",
       "<style scoped>\n",
       "    .dataframe tbody tr th:only-of-type {\n",
       "        vertical-align: middle;\n",
       "    }\n",
       "\n",
       "    .dataframe tbody tr th {\n",
       "        vertical-align: top;\n",
       "    }\n",
       "\n",
       "    .dataframe thead th {\n",
       "        text-align: right;\n",
       "    }\n",
       "</style>\n",
       "<table border=\"1\" class=\"dataframe\">\n",
       "  <thead>\n",
       "    <tr style=\"text-align: right;\">\n",
       "      <th></th>\n",
       "      <th>Year</th>\n",
       "      <th>Trimester</th>\n",
       "      <th>Price</th>\n",
       "    </tr>\n",
       "  </thead>\n",
       "  <tbody>\n",
       "    <tr>\n",
       "      <th>Year</th>\n",
       "      <td>1.000000</td>\n",
       "      <td>-0.088623</td>\n",
       "      <td>0.098240</td>\n",
       "    </tr>\n",
       "    <tr>\n",
       "      <th>Trimester</th>\n",
       "      <td>-0.088623</td>\n",
       "      <td>1.000000</td>\n",
       "      <td>0.010525</td>\n",
       "    </tr>\n",
       "    <tr>\n",
       "      <th>Price</th>\n",
       "      <td>0.098240</td>\n",
       "      <td>0.010525</td>\n",
       "      <td>1.000000</td>\n",
       "    </tr>\n",
       "  </tbody>\n",
       "</table>\n",
       "</div>"
      ],
      "text/plain": [
       "               Year  Trimester     Price\n",
       "Year       1.000000  -0.088623  0.098240\n",
       "Trimester -0.088623   1.000000  0.010525\n",
       "Price      0.098240   0.010525  1.000000"
      ]
     },
     "execution_count": 6,
     "metadata": {},
     "output_type": "execute_result"
    }
   ],
   "source": [
    "data.corr()"
   ]
  },
  {
   "cell_type": "markdown",
   "id": "a3f63129",
   "metadata": {
    "papermill": {
     "duration": 0.011456,
     "end_time": "2022-11-28T21:11:26.557971",
     "exception": false,
     "start_time": "2022-11-28T21:11:26.546515",
     "status": "completed"
    },
    "tags": []
   },
   "source": [
    "# Show data corr"
   ]
  },
  {
   "cell_type": "code",
   "execution_count": 7,
   "id": "a93e0313",
   "metadata": {
    "execution": {
     "iopub.execute_input": "2022-11-28T21:11:26.585522Z",
     "iopub.status.busy": "2022-11-28T21:11:26.584764Z",
     "iopub.status.idle": "2022-11-28T21:11:26.845325Z",
     "shell.execute_reply": "2022-11-28T21:11:26.843955Z"
    },
    "papermill": {
     "duration": 0.278431,
     "end_time": "2022-11-28T21:11:26.847917",
     "exception": false,
     "start_time": "2022-11-28T21:11:26.569486",
     "status": "completed"
    },
    "tags": []
   },
   "outputs": [
    {
     "data": {
      "text/plain": [
       "<AxesSubplot:>"
      ]
     },
     "execution_count": 7,
     "metadata": {},
     "output_type": "execute_result"
    },
    {
     "data": {
      "image/png": "[encoded data removed]",
      "text/plain": [
       "<Figure size 432x288 with 2 Axes>"
      ]
     },
     "metadata": {
      "needs_background": "light"
     },
     "output_type": "display_data"
    }
   ],
   "source": [
    "sns.heatmap(data.corr())"
   ]
  },
  {
   "cell_type": "markdown",
   "id": "839cc90a",
   "metadata": {
    "papermill": {
     "duration": 0.012119,
     "end_time": "2022-11-28T21:11:26.871953",
     "exception": false,
     "start_time": "2022-11-28T21:11:26.859834",
     "status": "completed"
    },
    "tags": []
   },
   "source": [
    "# data info"
   ]
  },
  {
   "cell_type": "code",
   "execution_count": 8,
   "id": "b41d364b",
   "metadata": {
    "execution": {
     "iopub.execute_input": "2022-11-28T21:11:26.899096Z",
     "iopub.status.busy": "2022-11-28T21:11:26.897987Z",
     "iopub.status.idle": "2022-11-28T21:11:26.922565Z",
     "shell.execute_reply": "2022-11-28T21:11:26.921320Z"
    },
    "papermill": {
     "duration": 0.040723,
     "end_time": "2022-11-28T21:11:26.925065",
     "exception": false,
     "start_time": "2022-11-28T21:11:26.884342",
     "status": "completed"
    },
    "tags": []
   },
   "outputs": [
    {
     "name": "stdout",
     "output_type": "stream",
     "text": [
      "<class 'pandas.core.frame.DataFrame'>\n",
      "RangeIndex: 4622 entries, 0 to 4621\n",
      "Data columns (total 6 columns):\n",
      " #   Column         Non-Null Count  Dtype  \n",
      "---  ------         --------------  -----  \n",
      " 0   Year           4622 non-null   int64  \n",
      " 1   Trimester      4622 non-null   int64  \n",
      " 2   District       4622 non-null   object \n",
      " 3   Neighbourhood  4622 non-null   object \n",
      " 4   Average _rent  4622 non-null   object \n",
      " 5   Price          4622 non-null   float64\n",
      "dtypes: float64(1), int64(2), object(3)\n",
      "memory usage: 216.8+ KB\n"
     ]
    }
   ],
   "source": [
    "data.info()"
   ]
  },
  {
   "cell_type": "markdown",
   "id": "0fa0df87",
   "metadata": {
    "papermill": {
     "duration": 0.011291,
     "end_time": "2022-11-28T21:11:26.948121",
     "exception": false,
     "start_time": "2022-11-28T21:11:26.936830",
     "status": "completed"
    },
    "tags": []
   },
   "source": [
    "# show data contain null data"
   ]
  },
  {
   "cell_type": "code",
   "execution_count": 9,
   "id": "8d89adad",
   "metadata": {
    "execution": {
     "iopub.execute_input": "2022-11-28T21:11:26.974187Z",
     "iopub.status.busy": "2022-11-28T21:11:26.973497Z",
     "iopub.status.idle": "2022-11-28T21:11:26.983656Z",
     "shell.execute_reply": "2022-11-28T21:11:26.982606Z"
    },
    "papermill": {
     "duration": 0.025809,
     "end_time": "2022-11-28T21:11:26.985945",
     "exception": false,
     "start_time": "2022-11-28T21:11:26.960136",
     "status": "completed"
    },
    "tags": []
   },
   "outputs": [
    {
     "data": {
      "text/plain": [
       "Year             0\n",
       "Trimester        0\n",
       "District         0\n",
       "Neighbourhood    0\n",
       "Average _rent    0\n",
       "Price            0\n",
       "dtype: int64"
      ]
     },
     "execution_count": 9,
     "metadata": {},
     "output_type": "execute_result"
    }
   ],
   "source": [
    "data.isnull().sum()"
   ]
  },
  {
   "cell_type": "markdown",
   "id": "f57ec5a8",
   "metadata": {
    "papermill": {
     "duration": 0.013041,
     "end_time": "2022-11-28T21:11:27.010740",
     "exception": false,
     "start_time": "2022-11-28T21:11:26.997699",
     "status": "completed"
    },
    "tags": []
   },
   "source": [
    "# show data contain dublicate data"
   ]
  },
  {
   "cell_type": "code",
   "execution_count": 10,
   "id": "081e9cca",
   "metadata": {
    "execution": {
     "iopub.execute_input": "2022-11-28T21:11:27.036514Z",
     "iopub.status.busy": "2022-11-28T21:11:27.036077Z",
     "iopub.status.idle": "2022-11-28T21:11:27.047165Z",
     "shell.execute_reply": "2022-11-28T21:11:27.046315Z"
    },
    "papermill": {
     "duration": 0.026666,
     "end_time": "2022-11-28T21:11:27.049494",
     "exception": false,
     "start_time": "2022-11-28T21:11:27.022828",
     "status": "completed"
    },
    "tags": []
   },
   "outputs": [
    {
     "data": {
      "text/plain": [
       "0"
      ]
     },
     "execution_count": 10,
     "metadata": {},
     "output_type": "execute_result"
    }
   ],
   "source": [
    "data.duplicated().sum()"
   ]
  },
  {
   "cell_type": "markdown",
   "id": "9d975586",
   "metadata": {
    "papermill": {
     "duration": 0.011686,
     "end_time": "2022-11-28T21:11:27.073373",
     "exception": false,
     "start_time": "2022-11-28T21:11:27.061687",
     "status": "completed"
    },
    "tags": []
   },
   "source": [
    "# Show input X and output y"
   ]
  },
  {
   "cell_type": "code",
   "execution_count": 11,
   "id": "af1df9c9",
   "metadata": {
    "execution": {
     "iopub.execute_input": "2022-11-28T21:11:27.099658Z",
     "iopub.status.busy": "2022-11-28T21:11:27.098989Z",
     "iopub.status.idle": "2022-11-28T21:11:27.104188Z",
     "shell.execute_reply": "2022-11-28T21:11:27.103452Z"
    },
    "papermill": {
     "duration": 0.021027,
     "end_time": "2022-11-28T21:11:27.106459",
     "exception": false,
     "start_time": "2022-11-28T21:11:27.085432",
     "status": "completed"
    },
    "tags": []
   },
   "outputs": [],
   "source": [
    "X=data.iloc[:,:-1]\n",
    "y=data.iloc[:,-1]"
   ]
  },
  {
   "cell_type": "markdown",
   "id": "6c00593c",
   "metadata": {
    "papermill": {
     "duration": 0.011673,
     "end_time": "2022-11-28T21:11:27.130008",
     "exception": false,
     "start_time": "2022-11-28T21:11:27.118335",
     "status": "completed"
    },
    "tags": []
   },
   "source": [
    "# Show input X"
   ]
  },
  {
   "cell_type": "code",
   "execution_count": 12,
   "id": "1c854b15",
   "metadata": {
    "execution": {
     "iopub.execute_input": "2022-11-28T21:11:27.155913Z",
     "iopub.status.busy": "2022-11-28T21:11:27.155486Z",
     "iopub.status.idle": "2022-11-28T21:11:27.170502Z",
     "shell.execute_reply": "2022-11-28T21:11:27.169524Z"
    },
    "papermill": {
     "duration": 0.030617,
     "end_time": "2022-11-28T21:11:27.172633",
     "exception": false,
     "start_time": "2022-11-28T21:11:27.142016",
     "status": "completed"
    },
    "tags": []
   },
   "outputs": [
    {
     "data": {
      "text/html": [
       "<div>\n",
       "<style scoped>\n",
       "    .dataframe tbody tr th:only-of-type {\n",
       "        vertical-align: middle;\n",
       "    }\n",
       "\n",
       "    .dataframe tbody tr th {\n",
       "        vertical-align: top;\n",
       "    }\n",
       "\n",
       "    .dataframe thead th {\n",
       "        text-align: right;\n",
       "    }\n",
       "</style>\n",
       "<table border=\"1\" class=\"dataframe\">\n",
       "  <thead>\n",
       "    <tr style=\"text-align: right;\">\n",
       "      <th></th>\n",
       "      <th>Year</th>\n",
       "      <th>Trimester</th>\n",
       "      <th>District</th>\n",
       "      <th>Neighbourhood</th>\n",
       "      <th>Average _rent</th>\n",
       "    </tr>\n",
       "  </thead>\n",
       "  <tbody>\n",
       "    <tr>\n",
       "      <th>0</th>\n",
       "      <td>2014</td>\n",
       "      <td>1</td>\n",
       "      <td>Ciutat Vella</td>\n",
       "      <td>el Raval</td>\n",
       "      <td>average rent (euro/month)</td>\n",
       "    </tr>\n",
       "    <tr>\n",
       "      <th>1</th>\n",
       "      <td>2014</td>\n",
       "      <td>1</td>\n",
       "      <td>Ciutat Vella</td>\n",
       "      <td>Gothic Quarter</td>\n",
       "      <td>average rent (euro/month)</td>\n",
       "    </tr>\n",
       "    <tr>\n",
       "      <th>2</th>\n",
       "      <td>2014</td>\n",
       "      <td>1</td>\n",
       "      <td>Ciutat Vella</td>\n",
       "      <td>la Barceloneta</td>\n",
       "      <td>average rent (euro/month)</td>\n",
       "    </tr>\n",
       "    <tr>\n",
       "      <th>3</th>\n",
       "      <td>2014</td>\n",
       "      <td>1</td>\n",
       "      <td>Ciutat Vella</td>\n",
       "      <td>Sant Pere, Santa Caterina i la Ribera</td>\n",
       "      <td>average rent (euro/month)</td>\n",
       "    </tr>\n",
       "    <tr>\n",
       "      <th>4</th>\n",
       "      <td>2014</td>\n",
       "      <td>1</td>\n",
       "      <td>Eixample</td>\n",
       "      <td>Fort Pienc</td>\n",
       "      <td>average rent (euro/month)</td>\n",
       "    </tr>\n",
       "    <tr>\n",
       "      <th>...</th>\n",
       "      <td>...</td>\n",
       "      <td>...</td>\n",
       "      <td>...</td>\n",
       "      <td>...</td>\n",
       "      <td>...</td>\n",
       "    </tr>\n",
       "    <tr>\n",
       "      <th>4617</th>\n",
       "      <td>2022</td>\n",
       "      <td>2</td>\n",
       "      <td>Sant Marti</td>\n",
       "      <td>Diagonal Mar i el Front Maritim del Poblenou</td>\n",
       "      <td>average rent per surface (euro/m2)</td>\n",
       "    </tr>\n",
       "    <tr>\n",
       "      <th>4618</th>\n",
       "      <td>2022</td>\n",
       "      <td>2</td>\n",
       "      <td>Sant Marti</td>\n",
       "      <td>el Besos i el Maresme</td>\n",
       "      <td>average rent per surface (euro/m2)</td>\n",
       "    </tr>\n",
       "    <tr>\n",
       "      <th>4619</th>\n",
       "      <td>2022</td>\n",
       "      <td>2</td>\n",
       "      <td>Sant Marti</td>\n",
       "      <td>Provencals del Poblenou</td>\n",
       "      <td>average rent per surface (euro/m2)</td>\n",
       "    </tr>\n",
       "    <tr>\n",
       "      <th>4620</th>\n",
       "      <td>2022</td>\n",
       "      <td>2</td>\n",
       "      <td>Sant Marti</td>\n",
       "      <td>Sant Marti de Provencals</td>\n",
       "      <td>average rent per surface (euro/m2)</td>\n",
       "    </tr>\n",
       "    <tr>\n",
       "      <th>4621</th>\n",
       "      <td>2022</td>\n",
       "      <td>2</td>\n",
       "      <td>Sant Marti</td>\n",
       "      <td>la Verneda i la Pau</td>\n",
       "      <td>average rent per surface (euro/m2)</td>\n",
       "    </tr>\n",
       "  </tbody>\n",
       "</table>\n",
       "<p>4622 rows × 5 columns</p>\n",
       "</div>"
      ],
      "text/plain": [
       "      Year  Trimester      District  \\\n",
       "0     2014          1  Ciutat Vella   \n",
       "1     2014          1  Ciutat Vella   \n",
       "2     2014          1  Ciutat Vella   \n",
       "3     2014          1  Ciutat Vella   \n",
       "4     2014          1      Eixample   \n",
       "...    ...        ...           ...   \n",
       "4617  2022          2    Sant Marti   \n",
       "4618  2022          2    Sant Marti   \n",
       "4619  2022          2    Sant Marti   \n",
       "4620  2022          2    Sant Marti   \n",
       "4621  2022          2    Sant Marti   \n",
       "\n",
       "                                     Neighbourhood  \\\n",
       "0                                         el Raval   \n",
       "1                                   Gothic Quarter   \n",
       "2                                   la Barceloneta   \n",
       "3            Sant Pere, Santa Caterina i la Ribera   \n",
       "4                                       Fort Pienc   \n",
       "...                                            ...   \n",
       "4617  Diagonal Mar i el Front Maritim del Poblenou   \n",
       "4618                         el Besos i el Maresme   \n",
       "4619                       Provencals del Poblenou   \n",
       "4620                      Sant Marti de Provencals   \n",
       "4621                           la Verneda i la Pau   \n",
       "\n",
       "                           Average _rent  \n",
       "0              average rent (euro/month)  \n",
       "1              average rent (euro/month)  \n",
       "2              average rent (euro/month)  \n",
       "3              average rent (euro/month)  \n",
       "4              average rent (euro/month)  \n",
       "...                                  ...  \n",
       "4617  average rent per surface (euro/m2)  \n",
       "4618  average rent per surface (euro/m2)  \n",
       "4619  average rent per surface (euro/m2)  \n",
       "4620  average rent per surface (euro/m2)  \n",
       "4621  average rent per surface (euro/m2)  \n",
       "\n",
       "[4622 rows x 5 columns]"
      ]
     },
     "execution_count": 12,
     "metadata": {},
     "output_type": "execute_result"
    }
   ],
   "source": [
    "X"
   ]
  },
  {
   "cell_type": "markdown",
   "id": "7135bfd2",
   "metadata": {
    "papermill": {
     "duration": 0.011933,
     "end_time": "2022-11-28T21:11:27.196788",
     "exception": false,
     "start_time": "2022-11-28T21:11:27.184855",
     "status": "completed"
    },
    "tags": []
   },
   "source": [
    "# Show output y"
   ]
  },
  {
   "cell_type": "code",
   "execution_count": 13,
   "id": "2456b670",
   "metadata": {
    "execution": {
     "iopub.execute_input": "2022-11-28T21:11:27.223633Z",
     "iopub.status.busy": "2022-11-28T21:11:27.222793Z",
     "iopub.status.idle": "2022-11-28T21:11:27.231698Z",
     "shell.execute_reply": "2022-11-28T21:11:27.230754Z"
    },
    "papermill": {
     "duration": 0.024843,
     "end_time": "2022-11-28T21:11:27.233845",
     "exception": false,
     "start_time": "2022-11-28T21:11:27.209002",
     "status": "completed"
    },
    "tags": []
   },
   "outputs": [
    {
     "data": {
      "text/plain": [
       "0       589.55\n",
       "1       712.79\n",
       "2       540.71\n",
       "3       673.44\n",
       "4       736.09\n",
       "         ...  \n",
       "4617     17.50\n",
       "4618     12.20\n",
       "4619     14.60\n",
       "4620     11.90\n",
       "4621     11.40\n",
       "Name: Price, Length: 4622, dtype: float64"
      ]
     },
     "execution_count": 13,
     "metadata": {},
     "output_type": "execute_result"
    }
   ],
   "source": [
    "y"
   ]
  },
  {
   "cell_type": "markdown",
   "id": "6393a45d",
   "metadata": {
    "papermill": {
     "duration": 0.013381,
     "end_time": "2022-11-28T21:11:27.260222",
     "exception": false,
     "start_time": "2022-11-28T21:11:27.246841",
     "status": "completed"
    },
    "tags": []
   },
   "source": [
    "# transform String data "
   ]
  },
  {
   "cell_type": "code",
   "execution_count": 14,
   "id": "3a55488c",
   "metadata": {
    "execution": {
     "iopub.execute_input": "2022-11-28T21:11:27.288116Z",
     "iopub.status.busy": "2022-11-28T21:11:27.287468Z",
     "iopub.status.idle": "2022-11-28T21:11:27.307100Z",
     "shell.execute_reply": "2022-11-28T21:11:27.305786Z"
    },
    "papermill": {
     "duration": 0.035995,
     "end_time": "2022-11-28T21:11:27.309538",
     "exception": false,
     "start_time": "2022-11-28T21:11:27.273543",
     "status": "completed"
    },
    "tags": []
   },
   "outputs": [
    {
     "data": {
      "text/html": [
       "<div>\n",
       "<style scoped>\n",
       "    .dataframe tbody tr th:only-of-type {\n",
       "        vertical-align: middle;\n",
       "    }\n",
       "\n",
       "    .dataframe tbody tr th {\n",
       "        vertical-align: top;\n",
       "    }\n",
       "\n",
       "    .dataframe thead th {\n",
       "        text-align: right;\n",
       "    }\n",
       "</style>\n",
       "<table border=\"1\" class=\"dataframe\">\n",
       "  <thead>\n",
       "    <tr style=\"text-align: right;\">\n",
       "      <th></th>\n",
       "      <th>Year</th>\n",
       "      <th>Trimester</th>\n",
       "      <th>District</th>\n",
       "      <th>Neighbourhood</th>\n",
       "      <th>Average _rent</th>\n",
       "    </tr>\n",
       "  </thead>\n",
       "  <tbody>\n",
       "    <tr>\n",
       "      <th>0</th>\n",
       "      <td>2014</td>\n",
       "      <td>1</td>\n",
       "      <td>0</td>\n",
       "      <td>47</td>\n",
       "      <td>0</td>\n",
       "    </tr>\n",
       "    <tr>\n",
       "      <th>1</th>\n",
       "      <td>2014</td>\n",
       "      <td>1</td>\n",
       "      <td>0</td>\n",
       "      <td>7</td>\n",
       "      <td>0</td>\n",
       "    </tr>\n",
       "    <tr>\n",
       "      <th>2</th>\n",
       "      <td>2014</td>\n",
       "      <td>1</td>\n",
       "      <td>0</td>\n",
       "      <td>50</td>\n",
       "      <td>0</td>\n",
       "    </tr>\n",
       "    <tr>\n",
       "      <th>3</th>\n",
       "      <td>2014</td>\n",
       "      <td>1</td>\n",
       "      <td>0</td>\n",
       "      <td>23</td>\n",
       "      <td>0</td>\n",
       "    </tr>\n",
       "    <tr>\n",
       "      <th>4</th>\n",
       "      <td>2014</td>\n",
       "      <td>1</td>\n",
       "      <td>1</td>\n",
       "      <td>6</td>\n",
       "      <td>0</td>\n",
       "    </tr>\n",
       "    <tr>\n",
       "      <th>...</th>\n",
       "      <td>...</td>\n",
       "      <td>...</td>\n",
       "      <td>...</td>\n",
       "      <td>...</td>\n",
       "      <td>...</td>\n",
       "    </tr>\n",
       "    <tr>\n",
       "      <th>4617</th>\n",
       "      <td>2022</td>\n",
       "      <td>2</td>\n",
       "      <td>7</td>\n",
       "      <td>5</td>\n",
       "      <td>1</td>\n",
       "    </tr>\n",
       "    <tr>\n",
       "      <th>4618</th>\n",
       "      <td>2022</td>\n",
       "      <td>2</td>\n",
       "      <td>7</td>\n",
       "      <td>34</td>\n",
       "      <td>1</td>\n",
       "    </tr>\n",
       "    <tr>\n",
       "      <th>4619</th>\n",
       "      <td>2022</td>\n",
       "      <td>2</td>\n",
       "      <td>7</td>\n",
       "      <td>14</td>\n",
       "      <td>1</td>\n",
       "    </tr>\n",
       "    <tr>\n",
       "      <th>4620</th>\n",
       "      <td>2022</td>\n",
       "      <td>2</td>\n",
       "      <td>7</td>\n",
       "      <td>21</td>\n",
       "      <td>1</td>\n",
       "    </tr>\n",
       "    <tr>\n",
       "      <th>4621</th>\n",
       "      <td>2022</td>\n",
       "      <td>2</td>\n",
       "      <td>7</td>\n",
       "      <td>69</td>\n",
       "      <td>1</td>\n",
       "    </tr>\n",
       "  </tbody>\n",
       "</table>\n",
       "<p>4622 rows × 5 columns</p>\n",
       "</div>"
      ],
      "text/plain": [
       "      Year  Trimester  District  Neighbourhood  Average _rent\n",
       "0     2014          1         0             47              0\n",
       "1     2014          1         0              7              0\n",
       "2     2014          1         0             50              0\n",
       "3     2014          1         0             23              0\n",
       "4     2014          1         1              6              0\n",
       "...    ...        ...       ...            ...            ...\n",
       "4617  2022          2         7              5              1\n",
       "4618  2022          2         7             34              1\n",
       "4619  2022          2         7             14              1\n",
       "4620  2022          2         7             21              1\n",
       "4621  2022          2         7             69              1\n",
       "\n",
       "[4622 rows x 5 columns]"
      ]
     },
     "execution_count": 14,
     "metadata": {},
     "output_type": "execute_result"
    }
   ],
   "source": [
    "string_data=['District','Neighbourhood','Average _rent']\n",
    "label = LabelEncoder()\n",
    "for i in string_data:\n",
    "    X[i]=label.fit_transform(X[i])\n",
    "X    "
   ]
  },
  {
   "cell_type": "markdown",
   "id": "5c813662",
   "metadata": {
    "papermill": {
     "duration": 0.012114,
     "end_time": "2022-11-28T21:11:27.334208",
     "exception": false,
     "start_time": "2022-11-28T21:11:27.322094",
     "status": "completed"
    },
    "tags": []
   },
   "source": [
    "# Splitting data"
   ]
  },
  {
   "cell_type": "code",
   "execution_count": 15,
   "id": "65175d50",
   "metadata": {
    "execution": {
     "iopub.execute_input": "2022-11-28T21:11:27.361568Z",
     "iopub.status.busy": "2022-11-28T21:11:27.360836Z",
     "iopub.status.idle": "2022-11-28T21:11:27.370011Z",
     "shell.execute_reply": "2022-11-28T21:11:27.368572Z"
    },
    "papermill": {
     "duration": 0.026642,
     "end_time": "2022-11-28T21:11:27.373088",
     "exception": false,
     "start_time": "2022-11-28T21:11:27.346446",
     "status": "completed"
    },
    "tags": []
   },
   "outputs": [
    {
     "name": "stdout",
     "output_type": "stream",
     "text": [
      "X_train shape is  (3096, 5)\n",
      "X_test shape is  (1526, 5)\n",
      "y_train shape is  (3096,)\n",
      "y_test shape is  (1526,)\n"
     ]
    }
   ],
   "source": [
    "X_train, X_test, y_train, y_test = train_test_split(X, y, test_size=0.33, random_state=44, shuffle =True)\n",
    "print('X_train shape is ' , X_train.shape)\n",
    "print('X_test shape is ' , X_test.shape)\n",
    "print('y_train shape is ' , y_train.shape)\n",
    "print('y_test shape is ' , y_test.shape)"
   ]
  },
  {
   "cell_type": "markdown",
   "id": "a2463adc",
   "metadata": {
    "papermill": {
     "duration": 0.012377,
     "end_time": "2022-11-28T21:11:27.398635",
     "exception": false,
     "start_time": "2022-11-28T21:11:27.386258",
     "status": "completed"
    },
    "tags": []
   },
   "source": [
    "# Applying Linear Regression Model "
   ]
  },
  {
   "cell_type": "code",
   "execution_count": 16,
   "id": "d21d95b9",
   "metadata": {
    "execution": {
     "iopub.execute_input": "2022-11-28T21:11:27.425862Z",
     "iopub.status.busy": "2022-11-28T21:11:27.424873Z",
     "iopub.status.idle": "2022-11-28T21:11:27.457027Z",
     "shell.execute_reply": "2022-11-28T21:11:27.455269Z"
    },
    "papermill": {
     "duration": 0.048664,
     "end_time": "2022-11-28T21:11:27.459749",
     "exception": false,
     "start_time": "2022-11-28T21:11:27.411085",
     "status": "completed"
    },
    "tags": []
   },
   "outputs": [
    {
     "name": "stderr",
     "output_type": "stream",
     "text": [
      "/opt/conda/lib/python3.7/site-packages/sklearn/linear_model/_base.py:145: FutureWarning: 'normalize' was deprecated in version 1.0 and will be removed in 1.2.\n",
      "If you wish to scale the data, use Pipeline with a StandardScaler in a preprocessing stage. To reproduce the previous behavior:\n",
      "\n",
      "from sklearn.pipeline import make_pipeline\n",
      "\n",
      "model = make_pipeline(StandardScaler(with_mean=False), LinearRegression())\n",
      "\n",
      "If you wish to pass a sample_weight parameter, you need to pass it as a fit parameter to each step of the pipeline as follows:\n",
      "\n",
      "kwargs = {s[0] + '__sample_weight': sample_weight for s in model.steps}\n",
      "model.fit(X, y, **kwargs)\n",
      "\n",
      "\n",
      "  FutureWarning,\n"
     ]
    },
    {
     "data": {
      "text/plain": [
       "LinearRegression(n_jobs=-1, normalize=True)"
      ]
     },
     "execution_count": 16,
     "metadata": {},
     "output_type": "execute_result"
    }
   ],
   "source": [
    "LinearRegressionModel = LinearRegression(fit_intercept=True, normalize=True,copy_X=True,n_jobs=-1)\n",
    "LinearRegressionModel.fit(X_train, y_train)"
   ]
  },
  {
   "cell_type": "markdown",
   "id": "cd1cbace",
   "metadata": {
    "papermill": {
     "duration": 0.012265,
     "end_time": "2022-11-28T21:11:27.484903",
     "exception": false,
     "start_time": "2022-11-28T21:11:27.472638",
     "status": "completed"
    },
    "tags": []
   },
   "source": [
    "# Calculating Details"
   ]
  },
  {
   "cell_type": "code",
   "execution_count": 17,
   "id": "ff8388c2",
   "metadata": {
    "execution": {
     "iopub.execute_input": "2022-11-28T21:11:27.512163Z",
     "iopub.status.busy": "2022-11-28T21:11:27.511444Z",
     "iopub.status.idle": "2022-11-28T21:11:27.529855Z",
     "shell.execute_reply": "2022-11-28T21:11:27.528202Z"
    },
    "papermill": {
     "duration": 0.037499,
     "end_time": "2022-11-28T21:11:27.534983",
     "exception": false,
     "start_time": "2022-11-28T21:11:27.497484",
     "status": "completed"
    },
    "tags": []
   },
   "outputs": [
    {
     "name": "stdout",
     "output_type": "stream",
     "text": [
      "Linear Regression Train Score is :  0.8474010568280299\n",
      "Linear Regression Test Score is :  0.8392662802720678\n",
      "Linear Regression Coef is :  [ 1.99137625e+01  8.22646269e+00  5.47015256e+00 -9.87051084e-02\n",
      " -8.06012685e+02]\n",
      "Linear Regression intercept is :  -39405.71663276178\n"
     ]
    }
   ],
   "source": [
    "print('Linear Regression Train Score is : ' , LinearRegressionModel.score(X_train, y_train))\n",
    "print('Linear Regression Test Score is : ' , LinearRegressionModel.score(X_test, y_test))\n",
    "print('Linear Regression Coef is : ' , LinearRegressionModel.coef_)\n",
    "print('Linear Regression intercept is : ' , LinearRegressionModel.intercept_)"
   ]
  },
  {
   "cell_type": "markdown",
   "id": "8f0e4501",
   "metadata": {
    "papermill": {
     "duration": 0.034024,
     "end_time": "2022-11-28T21:11:27.602187",
     "exception": false,
     "start_time": "2022-11-28T21:11:27.568163",
     "status": "completed"
    },
    "tags": []
   },
   "source": [
    "# Applying Random Forest Regressor Model "
   ]
  },
  {
   "cell_type": "code",
   "execution_count": 18,
   "id": "a7948e84",
   "metadata": {
    "execution": {
     "iopub.execute_input": "2022-11-28T21:11:27.652796Z",
     "iopub.status.busy": "2022-11-28T21:11:27.652383Z",
     "iopub.status.idle": "2022-11-28T21:11:28.187827Z",
     "shell.execute_reply": "2022-11-28T21:11:28.186650Z"
    },
    "papermill": {
     "duration": 0.553676,
     "end_time": "2022-11-28T21:11:28.190214",
     "exception": false,
     "start_time": "2022-11-28T21:11:27.636538",
     "status": "completed"
    },
    "tags": []
   },
   "outputs": [
    {
     "data": {
      "text/plain": [
       "RandomForestRegressor(max_depth=15, random_state=33)"
      ]
     },
     "execution_count": 18,
     "metadata": {},
     "output_type": "execute_result"
    }
   ],
   "source": [
    "RandomForestRegressorModel = RandomForestRegressor(n_estimators=100,max_depth=15, random_state=33)\n",
    "RandomForestRegressorModel.fit(X_train, y_train)"
   ]
  },
  {
   "cell_type": "markdown",
   "id": "95eac132",
   "metadata": {
    "papermill": {
     "duration": 0.012892,
     "end_time": "2022-11-28T21:11:28.216798",
     "exception": false,
     "start_time": "2022-11-28T21:11:28.203906",
     "status": "completed"
    },
    "tags": []
   },
   "source": [
    "# Calculating Details"
   ]
  },
  {
   "cell_type": "code",
   "execution_count": 19,
   "id": "06dd2e41",
   "metadata": {
    "execution": {
     "iopub.execute_input": "2022-11-28T21:11:28.245710Z",
     "iopub.status.busy": "2022-11-28T21:11:28.245276Z",
     "iopub.status.idle": "2022-11-28T21:11:28.389494Z",
     "shell.execute_reply": "2022-11-28T21:11:28.388198Z"
    },
    "papermill": {
     "duration": 0.161893,
     "end_time": "2022-11-28T21:11:28.392614",
     "exception": false,
     "start_time": "2022-11-28T21:11:28.230721",
     "status": "completed"
    },
    "tags": []
   },
   "outputs": [
    {
     "name": "stdout",
     "output_type": "stream",
     "text": [
      "Random Forest Regressor Train Score is :  0.9986012893759983\n",
      "Random Forest Regressor Test Score is :  0.9862618987383104\n",
      "Random Forest Regressor No. of features are :  5\n",
      "Random Forest Regressor features importances are :  [0.02787488 0.00323931 0.08558485 0.04866626 0.8346347 ]\n"
     ]
    },
    {
     "name": "stderr",
     "output_type": "stream",
     "text": [
      "/opt/conda/lib/python3.7/site-packages/sklearn/utils/deprecation.py:103: FutureWarning: Attribute `n_features_` was deprecated in version 1.0 and will be removed in 1.2. Use `n_features_in_` instead.\n",
      "  warnings.warn(msg, category=FutureWarning)\n"
     ]
    }
   ],
   "source": [
    "print('Random Forest Regressor Train Score is : ' , RandomForestRegressorModel.score(X_train, y_train))\n",
    "print('Random Forest Regressor Test Score is : ' , RandomForestRegressorModel.score(X_test, y_test))\n",
    "print('Random Forest Regressor No. of features are : ' , RandomForestRegressorModel.n_features_)\n",
    "print('Random Forest Regressor features importances are : ' , RandomForestRegressorModel.feature_importances_)"
   ]
  },
  {
   "cell_type": "markdown",
   "id": "724e985a",
   "metadata": {
    "papermill": {
     "duration": 0.012859,
     "end_time": "2022-11-28T21:11:28.418851",
     "exception": false,
     "start_time": "2022-11-28T21:11:28.405992",
     "status": "completed"
    },
    "tags": []
   },
   "source": [
    "# Show RandomForestRegressorModel.n_features_"
   ]
  },
  {
   "cell_type": "code",
   "execution_count": 20,
   "id": "0318060b",
   "metadata": {
    "execution": {
     "iopub.execute_input": "2022-11-28T21:11:28.446713Z",
     "iopub.status.busy": "2022-11-28T21:11:28.446271Z",
     "iopub.status.idle": "2022-11-28T21:11:28.679331Z",
     "shell.execute_reply": "2022-11-28T21:11:28.677933Z"
    },
    "papermill": {
     "duration": 0.250141,
     "end_time": "2022-11-28T21:11:28.682014",
     "exception": false,
     "start_time": "2022-11-28T21:11:28.431873",
     "status": "completed"
    },
    "tags": []
   },
   "outputs": [
    {
     "data": {
      "text/plain": [
       "<BarContainer object of 5 artists>"
      ]
     },
     "execution_count": 20,
     "metadata": {},
     "output_type": "execute_result"
    },
    {
     "data": {
      "image/png": "[encoded data removed]",
      "text/plain": [
       "<Figure size 432x288 with 1 Axes>"
      ]
     },
     "metadata": {
      "needs_background": "light"
     },
     "output_type": "display_data"
    }
   ],
   "source": [
    "plt.bar(X_train.keys(),RandomForestRegressorModel.feature_importances_)"
   ]
  },
  {
   "cell_type": "markdown",
   "id": "d3936aa9",
   "metadata": {
    "papermill": {
     "duration": 0.012948,
     "end_time": "2022-11-28T21:11:28.708375",
     "exception": false,
     "start_time": "2022-11-28T21:11:28.695427",
     "status": "completed"
    },
    "tags": []
   },
   "source": [
    "# Show y_train and y_train_pred"
   ]
  },
  {
   "cell_type": "code",
   "execution_count": 21,
   "id": "2005a2f3",
   "metadata": {
    "execution": {
     "iopub.execute_input": "2022-11-28T21:11:28.737018Z",
     "iopub.status.busy": "2022-11-28T21:11:28.736559Z",
     "iopub.status.idle": "2022-11-28T21:11:29.410815Z",
     "shell.execute_reply": "2022-11-28T21:11:29.409641Z"
    },
    "papermill": {
     "duration": 0.691721,
     "end_time": "2022-11-28T21:11:29.413440",
     "exception": false,
     "start_time": "2022-11-28T21:11:28.721719",
     "status": "completed"
    },
    "tags": []
   },
   "outputs": [
    {
     "data": {
      "text/plain": [
       "<matplotlib.legend.Legend at 0x7f38e133bad0>"
      ]
     },
     "execution_count": 21,
     "metadata": {},
     "output_type": "execute_result"
    },
    {
     "data": {
      "image/png": "[encoded data removed]",
      "text/plain": [
       "<Figure size 432x288 with 1 Axes>"
      ]
     },
     "metadata": {
      "needs_background": "light"
     },
     "output_type": "display_data"
    }
   ],
   "source": [
    "y_bar=list(range(1,3097))\n",
    "plt.scatter(y_bar,y_train,label='y_train')\n",
    "plt.scatter(y_bar,RandomForestRegressorModel.predict(X_train),label='y_pred')\n",
    "plt.title('y_train and y_train_pred')\n",
    "plt.legend()"
   ]
  },
  {
   "cell_type": "markdown",
   "id": "b4924a02",
   "metadata": {
    "papermill": {
     "duration": 0.013747,
     "end_time": "2022-11-28T21:11:29.441530",
     "exception": false,
     "start_time": "2022-11-28T21:11:29.427783",
     "status": "completed"
    },
    "tags": []
   },
   "source": [
    "# Show y_train and y_train_pred"
   ]
  },
  {
   "cell_type": "code",
   "execution_count": 22,
   "id": "d8c20568",
   "metadata": {
    "execution": {
     "iopub.execute_input": "2022-11-28T21:11:29.471640Z",
     "iopub.status.busy": "2022-11-28T21:11:29.471193Z",
     "iopub.status.idle": "2022-11-28T21:11:29.969550Z",
     "shell.execute_reply": "2022-11-28T21:11:29.968318Z"
    },
    "papermill": {
     "duration": 0.516398,
     "end_time": "2022-11-28T21:11:29.972095",
     "exception": false,
     "start_time": "2022-11-28T21:11:29.455697",
     "status": "completed"
    },
    "tags": []
   },
   "outputs": [
    {
     "data": {
      "text/plain": [
       "<matplotlib.legend.Legend at 0x7f38e12f6210>"
      ]
     },
     "execution_count": 22,
     "metadata": {},
     "output_type": "execute_result"
    },
    {
     "data": {
      "image/png": "[encoded data removed]",
      "text/plain": [
       "<Figure size 432x288 with 1 Axes>"
      ]
     },
     "metadata": {
      "needs_background": "light"
     },
     "output_type": "display_data"
    }
   ],
   "source": [
    "y_bar=list(range(1,1527))\n",
    "plt.scatter(y_bar,y_test,label='y_test')\n",
    "plt.scatter(y_bar,RandomForestRegressorModel.predict(X_test),label='y_pred')\n",
    "plt.title('y_test and y_test_pred')\n",
    "plt.legend()"
   ]
  },
  {
   "cell_type": "markdown",
   "id": "c244f31e",
   "metadata": {
    "papermill": {
     "duration": 0.015882,
     "end_time": "2022-11-28T21:11:30.003026",
     "exception": false,
     "start_time": "2022-11-28T21:11:29.987144",
     "status": "completed"
    },
    "tags": []
   },
   "source": [
    "# Show y_test"
   ]
  },
  {
   "cell_type": "code",
   "execution_count": 23,
   "id": "c376557a",
   "metadata": {
    "execution": {
     "iopub.execute_input": "2022-11-28T21:11:30.036407Z",
     "iopub.status.busy": "2022-11-28T21:11:30.035596Z",
     "iopub.status.idle": "2022-11-28T21:11:30.044500Z",
     "shell.execute_reply": "2022-11-28T21:11:30.043587Z"
    },
    "papermill": {
     "duration": 0.02772,
     "end_time": "2022-11-28T21:11:30.046900",
     "exception": false,
     "start_time": "2022-11-28T21:11:30.019180",
     "status": "completed"
    },
    "tags": []
   },
   "outputs": [
    {
     "data": {
      "text/plain": [
       "2909     796.60\n",
       "651      558.49\n",
       "4461      12.10\n",
       "4201      10.20\n",
       "2764     883.40\n",
       "         ...   \n",
       "3300     966.40\n",
       "1759     699.81\n",
       "4492    1328.60\n",
       "1485      11.15\n",
       "3127      12.40\n",
       "Name: Price, Length: 1526, dtype: float64"
      ]
     },
     "execution_count": 23,
     "metadata": {},
     "output_type": "execute_result"
    }
   ],
   "source": [
    "y_test"
   ]
  },
  {
   "cell_type": "markdown",
   "id": "40e4ecfb",
   "metadata": {
    "papermill": {
     "duration": 0.014597,
     "end_time": "2022-11-28T21:11:30.077078",
     "exception": false,
     "start_time": "2022-11-28T21:11:30.062481",
     "status": "completed"
    },
    "tags": []
   },
   "source": [
    "# Show y_pred"
   ]
  },
  {
   "cell_type": "code",
   "execution_count": 24,
   "id": "03dbbe51",
   "metadata": {
    "execution": {
     "iopub.execute_input": "2022-11-28T21:11:30.109918Z",
     "iopub.status.busy": "2022-11-28T21:11:30.109069Z",
     "iopub.status.idle": "2022-11-28T21:11:30.161033Z",
     "shell.execute_reply": "2022-11-28T21:11:30.160069Z"
    },
    "papermill": {
     "duration": 0.070659,
     "end_time": "2022-11-28T21:11:30.163360",
     "exception": false,
     "start_time": "2022-11-28T21:11:30.092701",
     "status": "completed"
    },
    "tags": []
   },
   "outputs": [
    {
     "data": {
      "text/plain": [
       "array([ 881.69582222,  563.61872275,   11.43260812, ..., 1239.26706667,\n",
       "         10.09836262,   12.57461556])"
      ]
     },
     "execution_count": 24,
     "metadata": {},
     "output_type": "execute_result"
    }
   ],
   "source": [
    "y_pred=RandomForestRegressorModel.predict(X_test)\n",
    "y_pred"
   ]
  },
  {
   "cell_type": "markdown",
   "id": "29a36269",
   "metadata": {
    "papermill": {
     "duration": 0.01563,
     "end_time": "2022-11-28T21:11:30.195119",
     "exception": false,
     "start_time": "2022-11-28T21:11:30.179489",
     "status": "completed"
    },
    "tags": []
   },
   "source": [
    "# Calculating Mean Absolute Error"
   ]
  },
  {
   "cell_type": "code",
   "execution_count": 25,
   "id": "e8aef5d4",
   "metadata": {
    "execution": {
     "iopub.execute_input": "2022-11-28T21:11:30.228711Z",
     "iopub.status.busy": "2022-11-28T21:11:30.227723Z",
     "iopub.status.idle": "2022-11-28T21:11:30.234409Z",
     "shell.execute_reply": "2022-11-28T21:11:30.233184Z"
    },
    "papermill": {
     "duration": 0.026286,
     "end_time": "2022-11-28T21:11:30.237305",
     "exception": false,
     "start_time": "2022-11-28T21:11:30.211019",
     "status": "completed"
    },
    "tags": []
   },
   "outputs": [
    {
     "name": "stdout",
     "output_type": "stream",
     "text": [
      "Mean Absolute Error Value is :  20.873495043112936\n"
     ]
    }
   ],
   "source": [
    "MAEValue = mean_absolute_error(y_test, y_pred, multioutput='uniform_average')\n",
    "print('Mean Absolute Error Value is : ', MAEValue)"
   ]
  },
  {
   "cell_type": "markdown",
   "id": "21a8b38b",
   "metadata": {
    "papermill": {
     "duration": 0.016417,
     "end_time": "2022-11-28T21:11:30.269558",
     "exception": false,
     "start_time": "2022-11-28T21:11:30.253141",
     "status": "completed"
    },
    "tags": []
   },
   "source": [
    "# Calculating Mean Squared Error"
   ]
  },
  {
   "cell_type": "code",
   "execution_count": 26,
   "id": "7251e848",
   "metadata": {
    "execution": {
     "iopub.execute_input": "2022-11-28T21:11:30.303958Z",
     "iopub.status.busy": "2022-11-28T21:11:30.303022Z",
     "iopub.status.idle": "2022-11-28T21:11:30.310521Z",
     "shell.execute_reply": "2022-11-28T21:11:30.309044Z"
    },
    "papermill": {
     "duration": 0.026791,
     "end_time": "2022-11-28T21:11:30.313091",
     "exception": false,
     "start_time": "2022-11-28T21:11:30.286300",
     "status": "completed"
    },
    "tags": []
   },
   "outputs": [
    {
     "name": "stdout",
     "output_type": "stream",
     "text": [
      "Mean Squared Error Value is :  2741.561793024807\n"
     ]
    }
   ],
   "source": [
    "MSEValue = mean_squared_error(y_test, y_pred, multioutput='uniform_average') # it can be raw_values\n",
    "print('Mean Squared Error Value is : ', MSEValue)"
   ]
  },
  {
   "cell_type": "markdown",
   "id": "ff93963c",
   "metadata": {
    "papermill": {
     "duration": 0.015156,
     "end_time": "2022-11-28T21:11:30.344019",
     "exception": false,
     "start_time": "2022-11-28T21:11:30.328863",
     "status": "completed"
    },
    "tags": []
   },
   "source": [
    "# Calculating Median Absolute Error"
   ]
  },
  {
   "cell_type": "code",
   "execution_count": 27,
   "id": "6658c98c",
   "metadata": {
    "execution": {
     "iopub.execute_input": "2022-11-28T21:11:30.377048Z",
     "iopub.status.busy": "2022-11-28T21:11:30.376576Z",
     "iopub.status.idle": "2022-11-28T21:11:30.384913Z",
     "shell.execute_reply": "2022-11-28T21:11:30.383299Z"
    },
    "papermill": {
     "duration": 0.028289,
     "end_time": "2022-11-28T21:11:30.387791",
     "exception": false,
     "start_time": "2022-11-28T21:11:30.359502",
     "status": "completed"
    },
    "tags": []
   },
   "outputs": [
    {
     "name": "stdout",
     "output_type": "stream",
     "text": [
      "Median Absolute Error Value is :  1.7228153968252968\n"
     ]
    }
   ],
   "source": [
    "MdSEValue = median_absolute_error(y_test, y_pred)\n",
    "print('Median Absolute Error Value is : ', MdSEValue )"
   ]
  },
  {
   "cell_type": "markdown",
   "id": "dc5421d2",
   "metadata": {
    "papermill": {
     "duration": 0.015251,
     "end_time": "2022-11-28T21:11:30.419188",
     "exception": false,
     "start_time": "2022-11-28T21:11:30.403937",
     "status": "completed"
    },
    "tags": []
   },
   "source": [
    "# y_pred to csv"
   ]
  },
  {
   "cell_type": "code",
   "execution_count": 28,
   "id": "38ca6aa0",
   "metadata": {
    "execution": {
     "iopub.execute_input": "2022-11-28T21:11:30.452504Z",
     "iopub.status.busy": "2022-11-28T21:11:30.451876Z",
     "iopub.status.idle": "2022-11-28T21:11:30.470547Z",
     "shell.execute_reply": "2022-11-28T21:11:30.469391Z"
    },
    "papermill": {
     "duration": 0.037974,
     "end_time": "2022-11-28T21:11:30.472802",
     "exception": false,
     "start_time": "2022-11-28T21:11:30.434828",
     "status": "completed"
    },
    "tags": []
   },
   "outputs": [
    {
     "data": {
      "text/html": [
       "<div>\n",
       "<style scoped>\n",
       "    .dataframe tbody tr th:only-of-type {\n",
       "        vertical-align: middle;\n",
       "    }\n",
       "\n",
       "    .dataframe tbody tr th {\n",
       "        vertical-align: top;\n",
       "    }\n",
       "\n",
       "    .dataframe thead th {\n",
       "        text-align: right;\n",
       "    }\n",
       "</style>\n",
       "<table border=\"1\" class=\"dataframe\">\n",
       "  <thead>\n",
       "    <tr style=\"text-align: right;\">\n",
       "      <th></th>\n",
       "      <th>prediction</th>\n",
       "    </tr>\n",
       "  </thead>\n",
       "  <tbody>\n",
       "    <tr>\n",
       "      <th>0</th>\n",
       "      <td>881.695822</td>\n",
       "    </tr>\n",
       "    <tr>\n",
       "      <th>1</th>\n",
       "      <td>563.618723</td>\n",
       "    </tr>\n",
       "    <tr>\n",
       "      <th>2</th>\n",
       "      <td>11.432608</td>\n",
       "    </tr>\n",
       "    <tr>\n",
       "      <th>3</th>\n",
       "      <td>11.571389</td>\n",
       "    </tr>\n",
       "    <tr>\n",
       "      <th>4</th>\n",
       "      <td>923.497779</td>\n",
       "    </tr>\n",
       "    <tr>\n",
       "      <th>...</th>\n",
       "      <td>...</td>\n",
       "    </tr>\n",
       "    <tr>\n",
       "      <th>1521</th>\n",
       "      <td>963.106633</td>\n",
       "    </tr>\n",
       "    <tr>\n",
       "      <th>1522</th>\n",
       "      <td>643.517005</td>\n",
       "    </tr>\n",
       "    <tr>\n",
       "      <th>1523</th>\n",
       "      <td>1239.267067</td>\n",
       "    </tr>\n",
       "    <tr>\n",
       "      <th>1524</th>\n",
       "      <td>10.098363</td>\n",
       "    </tr>\n",
       "    <tr>\n",
       "      <th>1525</th>\n",
       "      <td>12.574616</td>\n",
       "    </tr>\n",
       "  </tbody>\n",
       "</table>\n",
       "<p>1526 rows × 1 columns</p>\n",
       "</div>"
      ],
      "text/plain": [
       "       prediction\n",
       "0      881.695822\n",
       "1      563.618723\n",
       "2       11.432608\n",
       "3       11.571389\n",
       "4      923.497779\n",
       "...           ...\n",
       "1521   963.106633\n",
       "1522   643.517005\n",
       "1523  1239.267067\n",
       "1524    10.098363\n",
       "1525    12.574616\n",
       "\n",
       "[1526 rows x 1 columns]"
      ]
     },
     "execution_count": 28,
     "metadata": {},
     "output_type": "execute_result"
    }
   ],
   "source": [
    "submision=pd.DataFrame(y_pred,columns=['prediction'])\n",
    "submision.to_csv('/kaggle/working/prediction.csv')\n",
    "submision"
   ]
  }
 ],
 "metadata": {
  "kernelspec": {
   "display_name": "Python 3",
   "language": "python",
   "name": "python3"
  },
  "language_info": {
   "codemirror_mode": {
    "name": "ipython",
    "version": 3
   },
   "file_extension": ".py",
   "mimetype": "text/x-python",
   "name": "python",
   "nbconvert_exporter": "python",
   "pygments_lexer": "ipython3",
   "version": "3.7.12"
  },
  "papermill": {
   "default_parameters": {},
   "duration": 15.717296,
   "end_time": "2022-11-28T21:11:31.310582",
   "environment_variables": {},
   "exception": null,
   "input_path": "__notebook__.ipynb",
   "output_path": "__notebook__.ipynb",
   "parameters": {},
   "start_time": "2022-11-28T21:11:15.593286",
   "version": "2.3.4"
  }
 },
 "nbformat": 4,
 "nbformat_minor": 5
}
